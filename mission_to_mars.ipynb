{
 "cells": [
  {
   "cell_type": "code",
   "execution_count": 14,
   "metadata": {},
   "outputs": [],
   "source": [
    "#Import dependencies\n",
    "from splinter import Browser\n",
    "from bs4 import BeautifulSoup as bs"
   ]
  },
  {
   "cell_type": "code",
   "execution_count": 15,
   "metadata": {},
   "outputs": [],
   "source": [
    "#Define the path to the chrome driver\n",
    "def init_browser():\n",
    "    executable_path = {\"executable_path\": \"/usr/local/bin/chromedriver\"}\n",
    "    return Browser(\"chrome\", **executable_path, headless=True)"
   ]
  },
  {
   "cell_type": "code",
   "execution_count": 160,
   "metadata": {},
   "outputs": [],
   "source": [
    "#Define the scrape function\n",
    "\n",
    "browser = init_browser()\n",
    "\n",
    "#This section allows for the scraping of the JPL Featured Space Image website\n",
    "url = \"https://www.jpl.nasa.gov/spaceimages/?search=&category=Mars\"\n",
    "browser.visit(url)\n",
    "\n",
    "html = browser.html\n",
    "soup = bs(html, \"html.parser\")\n",
    "\n",
    "featured_image_tag = soup.find('', class_ = 'button fancybox')['data-fancybox-href']\n",
    "featured_image_url = f'https://www.jpl.nasa.gov/{featured_image_tag}'\n",
    "\n",
    "browser.quit()\n",
    "\n",
    "    #return listings"
   ]
  },
  {
   "cell_type": "code",
   "execution_count": null,
   "metadata": {},
   "outputs": [],
   "source": []
  },
  {
   "cell_type": "code",
   "execution_count": null,
   "metadata": {},
   "outputs": [],
   "source": []
  },
  {
   "cell_type": "code",
   "execution_count": 162,
   "metadata": {},
   "outputs": [],
   "source": [
    "def scrape():  \n",
    "    \n",
    "    #Define a dictionary called scraped_data that will be returned by the function\n",
    "    \n",
    "    #Open a browser window\n",
    "    browser = init_browser()\n",
    "    \n",
    "    #This section allows for the scraping of NASA's Mars Exploration website\n",
    "    #Feed the URL and visit the website\n",
    "    url = \"https://mars.nasa.gov/news/\"\n",
    "    browser.visit(url)\n",
    "\n",
    "    #Obtain the HTML and parse it into a BeautifulSoup object.\n",
    "    html = browser.html\n",
    "    soup = bs(html, \"html.parser\")\n",
    "\n",
    "    #Use the find function to find the most recent news title and description.\n",
    "    news_title = soup.find('', class_ = 'list_text').find('a').get_text()\n",
    "    news_p = soup.find('', class_ = 'article_teaser_body').get_text()\n",
    "    \n",
    "    #This section allows for the scraping of the JPL Featured Space Image website\n",
    "    url = \"https://www.jpl.nasa.gov/spaceimages/?search=&category=Mars\"\n",
    "    browser.visit(url)\n",
    "\n",
    "    html = browser.html\n",
    "    soup = bs(html, \"html.parser\")\n",
    "\n",
    "    featured_image_tag = soup.find('', class_ = 'button fancybox')['data-fancybox-href']\n",
    "    featured_image_url = f'https://www.jpl.nasa.gov/{featured_image_tag}'\n",
    "    \n",
    "    browser.quit()\n",
    "    \n",
    "    "
   ]
  },
  {
   "cell_type": "code",
   "execution_count": 163,
   "metadata": {},
   "outputs": [],
   "source": [
    "scrape()"
   ]
  },
  {
   "cell_type": "code",
   "execution_count": null,
   "metadata": {},
   "outputs": [],
   "source": []
  }
 ],
 "metadata": {
  "kernelspec": {
   "display_name": "Python 3",
   "language": "python",
   "name": "python3"
  },
  "language_info": {
   "codemirror_mode": {
    "name": "ipython",
    "version": 3
   },
   "file_extension": ".py",
   "mimetype": "text/x-python",
   "name": "python",
   "nbconvert_exporter": "python",
   "pygments_lexer": "ipython3",
   "version": "3.7.6"
  }
 },
 "nbformat": 4,
 "nbformat_minor": 4
}
